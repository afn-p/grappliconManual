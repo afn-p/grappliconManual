{
 "cells": [
  {
   "cell_type": "markdown",
   "metadata": {},
   "source": [
    "# GRAPPLICON MANUAL"
   ]
  },
  {
   "cell_type": "markdown",
   "metadata": {},
   "source": [
    "## I. General Ruleset"
   ]
  },
  {
   "cell_type": "markdown",
   "metadata": {},
   "source": [
    "- Submission-only, where competitors are awarded based on how fast they manage to submit their opponents.\n",
    "\n",
    "- 5 minute matches - a maximum of 300 seconds per match.\n",
    "\n",
    "- Each competitor in a match will start off with 300 points: 300 points for a 300 second match; in other words, 1 point for every second of the match.\n",
    "\n",
    "- As the match is playing out, competitors will lose points at a rate of 1 point per second until the match ends.\n",
    "\n",
    "- If the match ends by submission, the winner will receive points based on how much time is left.\n",
    "\n",
    "- Quitting of any form is considered a _tap_, so long as the reason is not due to a violation of safety rules.\n",
    "\n",
    "- If the time runs out, then it is a stalemate: no one is victorious in the match, and thus no one won any points.\n",
    "\n",
    "- The amount of stalemates and victories are recorded, as this plays a factor for who advances in the tournament.\n",
    "\n",
    "- The total amount of victories will outweigh the total amount of points that is earned (total amount of wins > total amount of points)."
   ]
  },
  {
   "cell_type": "markdown",
   "metadata": {},
   "source": [
    "For example:\n",
    "\n",
    "- Both participants have a total of 2 matches.\n",
    "\n",
    "- _Competitor A_ won 1 out of 2 matches.\n",
    "\n",
    "- _Competitor B_ won 2 out of 2 matches.\n",
    "\n",
    "- _Competitor A_ has a total of 300 points (somehow their opponent got submitted as soon as the ref said go).\n",
    "\n",
    "- _Competitor B_ has a total of 20 points (cutting it real close).\n",
    "\n",
    "Although _Competitor A_ has scored more points in total than _Competitor B_ because of their single victory, _Competitor B_ has a _BETTER OVERALL RECORD_.\n",
    "\n",
    "Winning 2 matches by submission is better than winning only 1 - no matter how fast the submissions were achieved. "
   ]
  },
  {
   "cell_type": "markdown",
   "metadata": {},
   "source": [
    "## II. Bracket Format"
   ]
  },
  {
   "cell_type": "markdown",
   "metadata": {},
   "source": [
    "- The tournament operates through a series of rounds.\n",
    "\n",
    "- Each round will have the total amount of competitors in the bracket - _N_.\n",
    "\n",
    "- A leaderboard records the progress of each competitor in _N_.\n",
    "\n",
    "- There is a set number of available spots on the leaderboard.\n",
    "\n",
    "- The leaderboard orders participants based on their record (total amount of wins and total points accumulated).\n",
    "\n",
    "- The better a competitor's record is, the higher they are placed on the leaderboard.\n",
    "\n",
    "- The leaderboard determines who will proceed to the next round: whoever occupies a spot on the leaderboard will proceed to the next round.\n",
    "\n",
    "- The leaderboard progressively decreases in available spots for who may proceed to the next round.\n",
    "\n",
    "- The size of the leaderboard can vary so long as it does not exceed the amount of the previous round.\n",
    "\n",
    "- Competitors will have a minimum of 2 matches for every round unless there only exists two competitors in _N_.\n",
    "\n",
    "- Competitors will have a maximum of 3 matches for every round if necessary.\n",
    "\n",
    "- Match assignments are randomized.\n",
    "\n",
    "- The size of the leaderboard, and thus the amount of people qualified for the next round, will depend on the amount of rounds in the tournament\n",
    "\n",
    "- The host of the tournament reserves the right to decide the size of the leaderboard for each round; in other words, they get to decide how many participants may proceed to the next round.\n",
    "\n",
    "- Again, the progress of each participant is commulative, where boh their total points and total wins - _record_ - will determine how far they will go in the tournament.\n",
    "\n",
    "- The finals consists of only two remaining participants, where they will compete in a 10 minute match (600 seconds).\n",
    "\n",
    "- If the finals concludes by submission, then the winner is crowned champion.\n",
    "\n",
    "- If the finals concludes by stalemate, the participant with the better record is crowned champion.\n",
    "\n",
    "- If the tournament concludes with a champion, this champion will be given a title based on their performance."
   ]
  },
  {
   "cell_type": "markdown",
   "metadata": {},
   "source": [
    "### Champion Title Hierarchy\n",
    "\n",
    "Based on the participant's performance to become champion, they will be given one of the following titles:\n",
    "\n",
    "Title | Guideline\n",
    "-|-\n",
    "Duel Champion | the finalist won by submission in a bracket of only 2 people.\n",
    "Champion | the finalist did not submit their opponent in the finals.\n",
    "Undisputed Champion | the finalist submitted their opponent in the finals.\n",
    "Supreme Champion | the finalist submitted their opponent in the finals and has the best overall record in the tournament.\n",
    "Legendary Champion | the finalist submitted all their opponents, has the best overall record in the tournament, and the best record for every round."
   ]
  },
  {
   "cell_type": "markdown",
   "metadata": {},
   "source": [
    "### If Competitors Quit During A Round\n",
    "\n",
    "If someone quits during the round, where a competitor is required to take up another match in order for everyone in _N_ to reach the minimum of at least 2 matches, then this competitor - whom is called _bye_ - will be the one with the lowest quality record on the leaderboard at the time.\n",
    "\n",
    "The following will occur:\n",
    "\n",
    "1. As stated above, _bye_ will be the competitor who has the lowest quality record out of 2 matches (at that time); if all records are the same, then a competitor will be chosen at random to become _bye_.\n",
    "\n",
    "2. The _bye_ will compete against the participant who is lacking their second, and final, match for the round.\n",
    "\n",
    "3. Possible match results are the following:\n",
    "\n",
    "Result | Consequence\n",
    "-|-\n",
    "_Bye_ Wins | _bye_ will be able to move on to the next round by replacing whoever is last on the leaderboard, regardless of their record.\n",
    "Stalemate or _Bye_ Losses|  _Bye_ is eliminated from the tournament and the leaderboard is reordered based on all the competitors who now have 2 matches\n",
    "\n",
    "\n",
    "For instance, even if the _bye_ has the poorest record in the tournament for the current round, their third match victory in the current round - if the match is necessary - will allow them to move on to the next round by replacing whoever is last on the leaderboard: the person who was replaced is eliminated from the tournament.\n",
    "\n",
    "If no one occupies the last spot on the leaderboard before the _bye_ match, then the leaderboard for the next round is reduced by one."
   ]
  },
  {
   "cell_type": "markdown",
   "metadata": {},
   "source": [
    "## III. Special Circumstances\n",
    "\n",
    "- If _N_ initially has only 2 competitors for the first round, then they will go against eachother in a 10 minute match (600 second): if a submission is not achieved, then no one is crowned champion.\n",
    "\n",
    "- If _N_ initially has only 3 competitors for the first round, but a competitor quits, then the following: the remaining two participants will competete in a 10 minute match (600 seconds). If a submission is not achieved, then no one is crowned champion.\n",
    "\n",
    "- If it is not the first round and everyone quits except for one participant, then the remaining competitor is crowned champion (pretty lame way to win, however).\n",
    "\n",
    "- If there is only one competitor for the first round, ask them why they have not asked for a refund yet."
   ]
  },
  {
   "cell_type": "markdown",
   "metadata": {},
   "source": [
    "## IV. Extreme Circumstances\n",
    "\n",
    "It is possible for no one to advance to the next round.\n",
    "\n",
    "If competitors are equal in their total amount of victories as well as total points upon conclusion of the round, then no one will advance to the next round.\n",
    "\n",
    "This also means that it is possible for a tournament to not have a champion.\n",
    "\n",
    "Also, if only one person advances to the next round, then this person is crowned champion.\n",
    "\n",
    "In fact, the finals operates the same way: the winner of the finals will advance to the next round to become champion."
   ]
  },
  {
   "cell_type": "markdown",
   "metadata": {},
   "source": [
    "## V. Experience - Rank Categories\n",
    "\n",
    "Experience | Rank Range\n",
    "-|-\n",
    "Beginner | White\n",
    "Advanced | Blue, Purple\n",
    "Expert | Brown, Black\n",
    "Professional | Black"
   ]
  },
  {
   "cell_type": "markdown",
   "metadata": {},
   "source": [
    "## VI. Submission Rules\n",
    "\n",
    "Ranks | Submissions Prohibited \n",
    "-|-\n",
    "Beginner | Slicers, Leg Submissions, Rotational Submissions of the Spine (which includes neck cranks)\n",
    "Advanced | Slicers, Rotational Submissions of the Legs (which includes heel hooks)\n",
    "Expert | Rotational Submissions of the Spine (which includes the neck)\n",
    "Professional | Nothing"
   ]
  },
  {
   "cell_type": "markdown",
   "metadata": {},
   "source": [
    "## VII. Prohibitted Behaviors During Match\n",
    "\n",
    "These are prohibitted behaviors for all experience levels (some of which are obvious):\n",
    "\n",
    "1. Impact Submissions: slamming or hitting/striking of any kind.\n",
    "\n",
    "2. Scratching.\n",
    "\n",
    "3. Eye gouging.\n",
    "\n",
    "4. Pulling individual fingers or toes.\n",
    "\n",
    "5. Pulling of hair.\n",
    "\n",
    "6. Pulling or grabbing of reproductive organs.\n",
    "\n",
    "7. Gouging or penetrating any bodily orifices known to mankind, such as fish-hooking.\n",
    "\n",
    "8. Spitting or nose-blowing of any kind.\n",
    "\n",
    "9. Farting.\n",
    "\n",
    "10. Kissing or licking. \n",
    "\n",
    "11. Fake Tapping.\n",
    "\n",
    "12. Scissor Takedowns.\n",
    "\n",
    "13. Suplex Takedowns.\n",
    "\n",
    "14. Jumping Guard."
   ]
  },
  {
   "cell_type": "markdown",
   "metadata": {},
   "source": [
    "## VIII. Bracket Examples\n",
    "\n",
    "Icon | Meaning\n",
    "-|-\n",
    "Letters (A,B,C, etc) | Competitor A, Competitor B, Competitor C, etc.\n",
    "Numbers (1, 2, 3) | Match 1, Match 2, Match 3\n",
    "_*_ | Quit\n",
    "W | Winner of Round\n"
   ]
  },
  {
   "cell_type": "markdown",
   "metadata": {},
   "source": [
    "### Overall Bracket\n",
    "\n",
    "- Starting total = 16 competitors\n",
    "- With each successive round, the leaderboard decreases, meaning that the amount of competitors allowed to the next round is decreased.\n",
    "- In the end, only one competitor remains.\n",
    "\n",
    "![alt text](overall.jpg)"
   ]
  },
  {
   "cell_type": "markdown",
   "metadata": {},
   "source": [
    "### Example 1: Even _N_, No Quitters\n",
    "\n",
    "Each competitor gets 2 matches.\n",
    "\n",
    "\n",
    "![alt text](1.jpg)"
   ]
  },
  {
   "cell_type": "markdown",
   "metadata": {},
   "source": [
    "### Example 2: Odd _N_, No Quitters\n",
    "\n",
    "Each competitor gets 2 matches.\n",
    "\n",
    "\n",
    "![alt text](2.jpg)"
   ]
  },
  {
   "cell_type": "markdown",
   "metadata": {},
   "source": [
    "### Example 3: _N_ equals 2, No Quitters\n",
    "\n",
    "1 match - 10 minute duration - to determine champion.\n",
    "\n",
    "\n",
    "![alt text](3.jpg)"
   ]
  },
  {
   "cell_type": "markdown",
   "metadata": {},
   "source": [
    "### Example 4: Even _N_, A Competitor quits\n",
    "\n",
    "For convenience while making the example:\n",
    "\n",
    "- _Competitor A_ is chosen as _bye_.\n",
    "\n",
    "- _Competitor B_ is chosen as the quitter.\n",
    "\n",
    "![alt text](4.jpg)"
   ]
  },
  {
   "cell_type": "markdown",
   "metadata": {},
   "source": [
    "### Example 5: Odd _N_, 1 Competitor quits\n",
    "\n",
    "For convenience while making the example:\n",
    "\n",
    "- _Competitor A_ is chosen as _bye_.\n",
    "\n",
    "- _Competitor B_ is chosen as the quitter.\n",
    "\n",
    "![alt text](5.jpg)"
   ]
  },
  {
   "cell_type": "markdown",
   "metadata": {},
   "source": [
    "### Example 6: Even _N_, A Competitor quits at the start of Round\n",
    "\n",
    "For convenience while making the example, _Competitor A_ is chosen as the quitter.\n",
    "\n",
    "Notice that the bracket reverts back to _Example 2_.\n",
    "\n",
    "![alt text](6.jpg)"
   ]
  },
  {
   "cell_type": "markdown",
   "metadata": {},
   "source": [
    "### Example 7: Odd _N_, A Competitor quits at the start of Round\n",
    "\n",
    "For convenience while making the example, _Competitor A_ is chosen as the quitter.\n",
    "\n",
    "Notice that the bracket reverts back to _Example 1_.\n",
    "\n",
    "![alt text](7.jpg)"
   ]
  }
 ],
 "metadata": {
  "kernelspec": {
   "display_name": "Python 3.10.1 ('grappliconStack-pMLY4Aq3')",
   "language": "python",
   "name": "python3"
  },
  "language_info": {
   "name": "python",
   "version": "3.10.1"
  },
  "orig_nbformat": 4,
  "vscode": {
   "interpreter": {
    "hash": "840e6012afa5939027c836871919b547fa114c552e141c0b2200ebd38c92307d"
   }
  }
 },
 "nbformat": 4,
 "nbformat_minor": 2
}
